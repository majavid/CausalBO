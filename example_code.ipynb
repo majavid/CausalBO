{
 "cells": [
  {
   "cell_type": "markdown",
   "metadata": {},
   "source": [
    "# Code Explanation and Examples\n",
    "\n",
    "## Introduction\n",
    "\n",
    "In this notebook, we will discuss and illustrate the implementation of using the CausalBO package. We will provide explanations along with code samples to help you understand the key concepts and steps involved in the code.\n",
    "\n",
    "## Table of Contents\n",
    "1. [Prerequisites](#prerequisites)\n",
    "2. [Code Explanation](#code-explanation)\n",
    "    1. [Standard CBO Loop](#standard-cbo)\n",
    "        1. [Importing Libraries](#s-importing-libraries)\n",
    "        2. [Loading Data](#s-loading-data)\n",
    "        3. [Causal Bayesian Optimization Algorithm](#s-cbo-alg)\n",
    "    2. [Custom CBO Loop](#custom-alg)\n",
    "        1. [Importing Libraries](#c-importing-libraries)\n",
    "        2. [Loading Data](#c-loading-data)\n",
    "        3. [Causal Bayesian Optimization Algorithm](#c-cbo-alg)\n",
    "3. [Result Replication](#result-replication)\n",
    "## Prerequisites <a name=\"prerequisites\"></a>\n",
    "\n",
    "Before running the code samples, ensure you have the necessary libraries installed. Installing CausalBO through pip will ensure these dependencies are installed. Otherwise, you can run the following code to install them:"
   ]
  },
  {
   "cell_type": "code",
   "execution_count": 4,
   "metadata": {},
   "outputs": [
    {
     "name": "stdout",
     "output_type": "stream",
     "text": [
      "Requirement already satisfied: numpy>=1.23.5 in c:\\users\\capta\\appdata\\local\\programs\\python\\python310\\lib\\site-packages (1.23.5)\n",
      "Requirement already satisfied: pandas>=1.5.3 in c:\\users\\capta\\appdata\\local\\programs\\python\\python310\\lib\\site-packages (1.5.3)\n",
      "Requirement already satisfied: torch>=2.0.0 in c:\\users\\capta\\appdata\\local\\programs\\python\\python310\\lib\\site-packages (2.0.0)\n",
      "Requirement already satisfied: scipy>=1.8.1 in c:\\users\\capta\\appdata\\local\\programs\\python\\python310\\lib\\site-packages (1.8.1)\n",
      "Requirement already satisfied: botorch>=0.8.3 in c:\\users\\capta\\appdata\\local\\programs\\python\\python310\\lib\\site-packages (0.8.3)\n",
      "Requirement already satisfied: gpytorch>=1.9.1 in c:\\users\\capta\\appdata\\local\\programs\\python\\python310\\lib\\site-packages (1.9.1)\n",
      "Requirement already satisfied: dowhy>=0.9.1 in c:\\users\\capta\\appdata\\local\\programs\\python\\python310\\lib\\site-packages (0.9.1)\n",
      "Requirement already satisfied: networkx>=2.8.8 in c:\\users\\capta\\appdata\\local\\programs\\python\\python310\\lib\\site-packages (2.8.8)\n",
      "Requirement already satisfied: python-dateutil>=2.8.1 in c:\\users\\capta\\appdata\\local\\programs\\python\\python310\\lib\\site-packages (from pandas>=1.5.3) (2.8.2)\n",
      "Requirement already satisfied: pytz>=2020.1 in c:\\users\\capta\\appdata\\local\\programs\\python\\python310\\lib\\site-packages (from pandas>=1.5.3) (2022.1)\n",
      "Requirement already satisfied: filelock in c:\\users\\capta\\appdata\\local\\programs\\python\\python310\\lib\\site-packages (from torch>=2.0.0) (3.8.0)\n",
      "Requirement already satisfied: typing-extensions in c:\\users\\capta\\appdata\\local\\programs\\python\\python310\\lib\\site-packages (from torch>=2.0.0) (4.2.0)\n",
      "Requirement already satisfied: sympy in c:\\users\\capta\\appdata\\local\\programs\\python\\python310\\lib\\site-packages (from torch>=2.0.0) (1.11.1)\n",
      "Requirement already satisfied: jinja2 in c:\\users\\capta\\appdata\\local\\programs\\python\\python310\\lib\\site-packages (from torch>=2.0.0) (3.1.2)\n",
      "Requirement already satisfied: multipledispatch in c:\\users\\capta\\appdata\\local\\programs\\python\\python310\\lib\\site-packages (from botorch>=0.8.3) (0.6.0)\n",
      "Requirement already satisfied: pyro-ppl>=1.8.4 in c:\\users\\capta\\appdata\\local\\programs\\python\\python310\\lib\\site-packages (from botorch>=0.8.3) (1.8.4)\n",
      "Requirement already satisfied: linear-operator==0.3.0 in c:\\users\\capta\\appdata\\local\\programs\\python\\python310\\lib\\site-packages (from botorch>=0.8.3) (0.3.0)\n",
      "Requirement already satisfied: scikit-learn in c:\\users\\capta\\appdata\\local\\programs\\python\\python310\\lib\\site-packages (from gpytorch>=1.9.1) (1.1.1)\n",
      "Requirement already satisfied: causal-learn<0.2.0.0,>=0.1.3.0 in c:\\users\\capta\\appdata\\local\\programs\\python\\python310\\lib\\site-packages (from dowhy>=0.9.1) (0.1.3.3)\n",
      "Requirement already satisfied: cython<0.30.0,>=0.29.32 in c:\\users\\capta\\appdata\\local\\programs\\python\\python310\\lib\\site-packages (from dowhy>=0.9.1) (0.29.33)\n",
      "Requirement already satisfied: econml in c:\\users\\capta\\appdata\\local\\programs\\python\\python310\\lib\\site-packages (from dowhy>=0.9.1) (0.14.0)\n",
      "Requirement already satisfied: joblib<2.0.0,>=1.1.0 in c:\\users\\capta\\appdata\\local\\programs\\python\\python310\\lib\\site-packages (from dowhy>=0.9.1) (1.1.0)\n",
      "Requirement already satisfied: sphinx_design<0.4.0,>=0.3.0 in c:\\users\\capta\\appdata\\local\\programs\\python\\python310\\lib\\site-packages (from dowhy>=0.9.1) (0.3.0)\n",
      "Requirement already satisfied: statsmodels<0.14.0,>=0.13.2 in c:\\users\\capta\\appdata\\local\\programs\\python\\python310\\lib\\site-packages (from dowhy>=0.9.1) (0.13.5)\n",
      "Requirement already satisfied: tqdm<5.0.0,>=4.64.0 in c:\\users\\capta\\appdata\\local\\programs\\python\\python310\\lib\\site-packages (from dowhy>=0.9.1) (4.64.1)\n",
      "Requirement already satisfied: graphviz in c:\\users\\capta\\appdata\\local\\programs\\python\\python310\\lib\\site-packages (from causal-learn<0.2.0.0,>=0.1.3.0->dowhy>=0.9.1) (0.20.1)\n",
      "Requirement already satisfied: matplotlib in c:\\users\\capta\\appdata\\local\\programs\\python\\python310\\lib\\site-packages (from causal-learn<0.2.0.0,>=0.1.3.0->dowhy>=0.9.1) (3.6.3)\n",
      "Requirement already satisfied: pydot in c:\\users\\capta\\appdata\\local\\programs\\python\\python310\\lib\\site-packages (from causal-learn<0.2.0.0,>=0.1.3.0->dowhy>=0.9.1) (1.4.2)\n",
      "Requirement already satisfied: opt-einsum>=2.3.2 in c:\\users\\capta\\appdata\\local\\programs\\python\\python310\\lib\\site-packages (from pyro-ppl>=1.8.4->botorch>=0.8.3) (3.3.0)\n",
      "Requirement already satisfied: pyro-api>=0.1.1 in c:\\users\\capta\\appdata\\local\\programs\\python\\python310\\lib\\site-packages (from pyro-ppl>=1.8.4->botorch>=0.8.3) (0.1.2)\n",
      "Requirement already satisfied: six>=1.5 in c:\\users\\capta\\appdata\\local\\programs\\python\\python310\\lib\\site-packages (from python-dateutil>=2.8.1->pandas>=1.5.3) (1.16.0)\n",
      "Requirement already satisfied: threadpoolctl>=2.0.0 in c:\\users\\capta\\appdata\\local\\programs\\python\\python310\\lib\\site-packages (from scikit-learn->gpytorch>=1.9.1) (3.1.0)\n",
      "Requirement already satisfied: sphinx<6,>=4 in c:\\users\\capta\\appdata\\local\\programs\\python\\python310\\lib\\site-packages (from sphinx_design<0.4.0,>=0.3.0->dowhy>=0.9.1) (5.3.0)\n",
      "Requirement already satisfied: patsy>=0.5.2 in c:\\users\\capta\\appdata\\local\\programs\\python\\python310\\lib\\site-packages (from statsmodels<0.14.0,>=0.13.2->dowhy>=0.9.1) (0.5.3)\n",
      "Requirement already satisfied: packaging>=21.3 in c:\\users\\capta\\appdata\\local\\programs\\python\\python310\\lib\\site-packages (from statsmodels<0.14.0,>=0.13.2->dowhy>=0.9.1) (21.3)\n",
      "Requirement already satisfied: mpmath>=0.19 in c:\\users\\capta\\appdata\\local\\programs\\python\\python310\\lib\\site-packages (from sympy->torch>=2.0.0) (1.3.0)\n",
      "Requirement already satisfied: colorama in c:\\users\\capta\\appdata\\local\\programs\\python\\python310\\lib\\site-packages (from tqdm<5.0.0,>=4.64.0->dowhy>=0.9.1) (0.4.6)\n",
      "Requirement already satisfied: sparse in c:\\users\\capta\\appdata\\local\\programs\\python\\python310\\lib\\site-packages (from econml->dowhy>=0.9.1) (0.14.0)\n",
      "Requirement already satisfied: shap<0.41.0,>=0.38.1 in c:\\users\\capta\\appdata\\local\\programs\\python\\python310\\lib\\site-packages (from econml->dowhy>=0.9.1) (0.40.0)\n",
      "Requirement already satisfied: lightgbm in c:\\users\\capta\\appdata\\local\\programs\\python\\python310\\lib\\site-packages (from econml->dowhy>=0.9.1) (3.3.5)\n",
      "Requirement already satisfied: MarkupSafe>=2.0 in c:\\users\\capta\\appdata\\local\\programs\\python\\python310\\lib\\site-packages (from jinja2->torch>=2.0.0) (2.1.2)\n",
      "Requirement already satisfied: pyparsing!=3.0.5,>=2.0.2 in c:\\users\\capta\\appdata\\local\\programs\\python\\python310\\lib\\site-packages (from packaging>=21.3->statsmodels<0.14.0,>=0.13.2->dowhy>=0.9.1) (3.0.9)\n",
      "Requirement already satisfied: slicer==0.0.7 in c:\\users\\capta\\appdata\\local\\programs\\python\\python310\\lib\\site-packages (from shap<0.41.0,>=0.38.1->econml->dowhy>=0.9.1) (0.0.7)\n",
      "Requirement already satisfied: numba in c:\\users\\capta\\appdata\\local\\programs\\python\\python310\\lib\\site-packages (from shap<0.41.0,>=0.38.1->econml->dowhy>=0.9.1) (0.56.4)\n",
      "Requirement already satisfied: cloudpickle in c:\\users\\capta\\appdata\\local\\programs\\python\\python310\\lib\\site-packages (from shap<0.41.0,>=0.38.1->econml->dowhy>=0.9.1) (2.2.1)\n",
      "Requirement already satisfied: sphinxcontrib-applehelp in c:\\users\\capta\\appdata\\local\\programs\\python\\python310\\lib\\site-packages (from sphinx<6,>=4->sphinx_design<0.4.0,>=0.3.0->dowhy>=0.9.1) (1.0.4)\n",
      "Requirement already satisfied: sphinxcontrib-devhelp in c:\\users\\capta\\appdata\\local\\programs\\python\\python310\\lib\\site-packages (from sphinx<6,>=4->sphinx_design<0.4.0,>=0.3.0->dowhy>=0.9.1) (1.0.2)\n",
      "Requirement already satisfied: sphinxcontrib-jsmath in c:\\users\\capta\\appdata\\local\\programs\\python\\python310\\lib\\site-packages (from sphinx<6,>=4->sphinx_design<0.4.0,>=0.3.0->dowhy>=0.9.1) (1.0.1)\n",
      "Requirement already satisfied: sphinxcontrib-htmlhelp>=2.0.0 in c:\\users\\capta\\appdata\\local\\programs\\python\\python310\\lib\\site-packages (from sphinx<6,>=4->sphinx_design<0.4.0,>=0.3.0->dowhy>=0.9.1) (2.0.1)\n",
      "Requirement already satisfied: sphinxcontrib-serializinghtml>=1.1.5 in c:\\users\\capta\\appdata\\local\\programs\\python\\python310\\lib\\site-packages (from sphinx<6,>=4->sphinx_design<0.4.0,>=0.3.0->dowhy>=0.9.1) (1.1.5)\n",
      "Requirement already satisfied: sphinxcontrib-qthelp in c:\\users\\capta\\appdata\\local\\programs\\python\\python310\\lib\\site-packages (from sphinx<6,>=4->sphinx_design<0.4.0,>=0.3.0->dowhy>=0.9.1) (1.0.3)\n",
      "Requirement already satisfied: Pygments>=2.12 in c:\\users\\capta\\appdata\\local\\programs\\python\\python310\\lib\\site-packages (from sphinx<6,>=4->sphinx_design<0.4.0,>=0.3.0->dowhy>=0.9.1) (2.14.0)\n",
      "Requirement already satisfied: docutils<0.20,>=0.14 in c:\\users\\capta\\appdata\\local\\programs\\python\\python310\\lib\\site-packages (from sphinx<6,>=4->sphinx_design<0.4.0,>=0.3.0->dowhy>=0.9.1) (0.19)\n",
      "Requirement already satisfied: snowballstemmer>=2.0 in c:\\users\\capta\\appdata\\local\\programs\\python\\python310\\lib\\site-packages (from sphinx<6,>=4->sphinx_design<0.4.0,>=0.3.0->dowhy>=0.9.1) (2.2.0)\n",
      "Requirement already satisfied: babel>=2.9 in c:\\users\\capta\\appdata\\local\\programs\\python\\python310\\lib\\site-packages (from sphinx<6,>=4->sphinx_design<0.4.0,>=0.3.0->dowhy>=0.9.1) (2.12.1)\n",
      "Requirement already satisfied: alabaster<0.8,>=0.7 in c:\\users\\capta\\appdata\\local\\programs\\python\\python310\\lib\\site-packages (from sphinx<6,>=4->sphinx_design<0.4.0,>=0.3.0->dowhy>=0.9.1) (0.7.13)\n",
      "Requirement already satisfied: imagesize>=1.3 in c:\\users\\capta\\appdata\\local\\programs\\python\\python310\\lib\\site-packages (from sphinx<6,>=4->sphinx_design<0.4.0,>=0.3.0->dowhy>=0.9.1) (1.4.1)\n",
      "Requirement already satisfied: requests>=2.5.0 in c:\\users\\capta\\appdata\\local\\programs\\python\\python310\\lib\\site-packages (from sphinx<6,>=4->sphinx_design<0.4.0,>=0.3.0->dowhy>=0.9.1) (2.28.0)\n",
      "Requirement already satisfied: wheel in c:\\users\\capta\\appdata\\local\\programs\\python\\python310\\lib\\site-packages (from lightgbm->econml->dowhy>=0.9.1) (0.37.1)\n",
      "Requirement already satisfied: contourpy>=1.0.1 in c:\\users\\capta\\appdata\\local\\programs\\python\\python310\\lib\\site-packages (from matplotlib->causal-learn<0.2.0.0,>=0.1.3.0->dowhy>=0.9.1) (1.0.7)\n",
      "Requirement already satisfied: cycler>=0.10 in c:\\users\\capta\\appdata\\local\\programs\\python\\python310\\lib\\site-packages (from matplotlib->causal-learn<0.2.0.0,>=0.1.3.0->dowhy>=0.9.1) (0.11.0)\n",
      "Requirement already satisfied: fonttools>=4.22.0 in c:\\users\\capta\\appdata\\local\\programs\\python\\python310\\lib\\site-packages (from matplotlib->causal-learn<0.2.0.0,>=0.1.3.0->dowhy>=0.9.1) (4.37.1)\n",
      "Requirement already satisfied: kiwisolver>=1.0.1 in c:\\users\\capta\\appdata\\local\\programs\\python\\python310\\lib\\site-packages (from matplotlib->causal-learn<0.2.0.0,>=0.1.3.0->dowhy>=0.9.1) (1.4.4)\n",
      "Requirement already satisfied: pillow>=6.2.0 in c:\\users\\capta\\appdata\\local\\programs\\python\\python310\\lib\\site-packages (from matplotlib->causal-learn<0.2.0.0,>=0.1.3.0->dowhy>=0.9.1) (9.2.0)\n",
      "Requirement already satisfied: llvmlite<0.40,>=0.39.0dev0 in c:\\users\\capta\\appdata\\local\\programs\\python\\python310\\lib\\site-packages (from numba->shap<0.41.0,>=0.38.1->econml->dowhy>=0.9.1) (0.39.1)\n",
      "Requirement already satisfied: setuptools in c:\\users\\capta\\appdata\\local\\programs\\python\\python310\\lib\\site-packages (from numba->shap<0.41.0,>=0.38.1->econml->dowhy>=0.9.1) (58.1.0)\n",
      "Requirement already satisfied: charset-normalizer~=2.0.0 in c:\\users\\capta\\appdata\\local\\programs\\python\\python310\\lib\\site-packages (from requests>=2.5.0->sphinx<6,>=4->sphinx_design<0.4.0,>=0.3.0->dowhy>=0.9.1) (2.0.12)\n",
      "Requirement already satisfied: idna<4,>=2.5 in c:\\users\\capta\\appdata\\local\\programs\\python\\python310\\lib\\site-packages (from requests>=2.5.0->sphinx<6,>=4->sphinx_design<0.4.0,>=0.3.0->dowhy>=0.9.1) (3.3)\n",
      "Requirement already satisfied: urllib3<1.27,>=1.21.1 in c:\\users\\capta\\appdata\\local\\programs\\python\\python310\\lib\\site-packages (from requests>=2.5.0->sphinx<6,>=4->sphinx_design<0.4.0,>=0.3.0->dowhy>=0.9.1) (1.26.9)\n",
      "Requirement already satisfied: certifi>=2017.4.17 in c:\\users\\capta\\appdata\\local\\programs\\python\\python310\\lib\\site-packages (from requests>=2.5.0->sphinx<6,>=4->sphinx_design<0.4.0,>=0.3.0->dowhy>=0.9.1) (2022.6.15)\n"
     ]
    },
    {
     "name": "stderr",
     "output_type": "stream",
     "text": [
      "\n",
      "[notice] A new release of pip is available: 23.1.2 -> 23.2.1\n",
      "[notice] To update, run: python.exe -m pip install --upgrade pip\n"
     ]
    }
   ],
   "source": [
    "import sys\n",
    "!{sys.executable} -m pip install \"numpy>=1.23.5\" \"pandas>=1.5.3\" \"torch>=2.0.0\" \"scipy>=1.8.1\" \"botorch>=0.8.3\" \"gpytorch>=1.9.1\" \"dowhy>=0.9.1\" \"networkx>=2.8.8\""
   ]
  },
  {
   "cell_type": "markdown",
   "metadata": {},
   "source": [
    "## Code Explanation <a name=\"code-explanation\"></a>"
   ]
  },
  {
   "cell_type": "markdown",
   "metadata": {},
   "source": [
    "### Standard CBO Loop <a name=\"standard-cbo\"></a>"
   ]
  },
  {
   "cell_type": "markdown",
   "metadata": {},
   "source": [
    "#### Step 1: Importing Libraries <a name=\"s-importing-libraries\"></a>"
   ]
  },
  {
   "cell_type": "markdown",
   "metadata": {},
   "source": [
    "Begin by importing all of the necessary libraries for running a simple causal Bayesian optimization task using the included algorithm."
   ]
  },
  {
   "cell_type": "code",
   "execution_count": 1,
   "metadata": {},
   "outputs": [
    {
     "name": "stderr",
     "output_type": "stream",
     "text": [
      "c:\\Users\\capta\\AppData\\Local\\Programs\\Python\\Python310\\lib\\site-packages\\tqdm\\auto.py:22: TqdmWarning: IProgress not found. Please update jupyter and ipywidgets. See https://ipywidgets.readthedocs.io/en/stable/user_install.html\n",
      "  from .autonotebook import tqdm as notebook_tqdm\n"
     ]
    }
   ],
   "source": [
    "from causalbo.cbo_loop import CBOLoop\n",
    "from causalbo.sample_data.toy_graph import ToyGraph"
   ]
  },
  {
   "cell_type": "markdown",
   "metadata": {},
   "source": [
    "#### Step 2: Loading Data <a name=\"s-loading-data\"></a>"
   ]
  },
  {
   "cell_type": "markdown",
   "metadata": {},
   "source": [
    "For the simplest example, some sample DAGs and associated datasets have been provided. We can load all of the data we need by instantiating one of these objects. The object contains information about the graph structure, ground truth functions, and a randomly generated set of noisy observational data."
   ]
  },
  {
   "cell_type": "code",
   "execution_count": 2,
   "metadata": {},
   "outputs": [
    {
     "name": "stdout",
     "output_type": "stream",
     "text": [
      "{'X': [-5, 5], 'Z': [-5, 20]}\n",
      "          X         Z         Y\n",
      "0 -0.704873  0.799393 -0.986043\n",
      "1  0.738039 -0.227229 -0.612177\n",
      "2 -0.736996  0.087984  1.205263\n",
      "3  1.295972  0.930769 -1.254709\n",
      "4  0.769988 -0.130837  0.416113\n",
      "5 -2.003066  5.535750 -0.119479\n",
      "6 -0.629566  1.776501 -1.666294\n",
      "7 -1.168048  4.147660 -1.244483\n",
      "8 -0.105347  0.844130 -0.159706\n",
      "9  0.134559  1.607938 -1.460476\n"
     ]
    },
    {
     "data": {
      "image/png": "[encoded data removed]",
      "text/plain": [
       "<Figure size 640x480 with 1 Axes>"
      ]
     },
     "metadata": {},
     "output_type": "display_data"
    }
   ],
   "source": [
    "toy_graph = ToyGraph()\n",
    "\n",
    "# Display sample data\n",
    "toy_graph.draw()\n",
    "print(toy_graph.interventional_domain)\n",
    "print(toy_graph.observational_samples.head(10))"
   ]
  },
  {
   "cell_type": "markdown",
   "metadata": {},
   "source": [
    "#### Step 3: Causal Bayesian Optimization Algorithm <a name=\"s-cbo-alg\"></a>"
   ]
  },
  {
   "cell_type": "markdown",
   "metadata": {},
   "source": [
    "Now, we can run the included CBO algorithm, originally developed by V. Aglietti et. al. and adapted for use in this package."
   ]
  },
  {
   "cell_type": "code",
   "execution_count": null,
   "metadata": {},
   "outputs": [],
   "source": [
    "(global_optimum, global_optimal_set, gp, D_i, D_o) = CBOLoop(\n",
    "        observational_samples=toy_graph.observational_samples,\n",
    "        graph=toy_graph.graph,\n",
    "        exploration_set=[['X']],\n",
    "        num_steps=10,\n",
    "        num_initial_obs=400,\n",
    "        num_obs_per_step=20,\n",
    "        num_max_allowed_obs=1000,\n",
    "        interventional_domain=toy_graph.interventional_domain,\n",
    "        type_trial='max',\n",
    "        objective_function=toy_graph.obj_func,\n",
    "        early_stopping_iters=2, verbose=False)\n",
    "\n",
    "print(global_optimum, global_optimal_set, gp)"
   ]
  },
  {
   "cell_type": "markdown",
   "metadata": {},
   "source": [
    "### Custom CBO Loop <a name=\"custom-alg\"></a>"
   ]
  },
  {
   "cell_type": "markdown",
   "metadata": {},
   "source": [
    "It is also possible to use the provided modules to write a custom loop using BoTorch."
   ]
  },
  {
   "cell_type": "markdown",
   "metadata": {},
   "source": [
    "#### Importing Libraries <a name=\"c-importing-libraries\"></a>"
   ]
  },
  {
   "cell_type": "markdown",
   "metadata": {},
   "source": [
    "These imports will give access to the lower-level modules used in the simple example above to allow for the creation of a custom loop using BoTorch, as well as generating custom data."
   ]
  },
  {
   "cell_type": "code",
   "execution_count": 2,
   "metadata": {},
   "outputs": [
    {
     "name": "stderr",
     "output_type": "stream",
     "text": [
      "c:\\Users\\capta\\AppData\\Local\\Programs\\Python\\Python310\\lib\\site-packages\\tqdm\\auto.py:22: TqdmWarning: IProgress not found. Please update jupyter and ipywidgets. See https://ipywidgets.readthedocs.io/en/stable/user_install.html\n",
      "  from .autonotebook import tqdm as notebook_tqdm\n"
     ]
    }
   ],
   "source": [
    "from causalbo.modules import CausalMean, CausalRBF\n",
    "from causalbo.do_calculus import SCM\n",
    "from causalbo.causal_helper_funcs import *\n",
    "\n",
    "from pandas import DataFrame\n",
    "\n",
    "import torch\n",
    "from botorch.models import SingleTaskGP\n",
    "from gpytorch.mlls.exact_marginal_log_likelihood import ExactMarginalLogLikelihood\n",
    "from botorch.fit import fit_gpytorch_model\n",
    "from botorch.acquisition import ExpectedImprovement\n",
    "from botorch.optim import optimize_acqf"
   ]
  },
  {
   "cell_type": "markdown",
   "metadata": {},
   "source": [
    "#### Loading Data <a name=\"c-loading-data\"></a>"
   ]
  },
  {
   "cell_type": "markdown",
   "metadata": {},
   "source": [
    "For this example, we will generate some custom data using the same DAG structure and ground truth functions provided in the ToyGraph import."
   ]
  },
  {
   "cell_type": "code",
   "execution_count": 10,
   "metadata": {},
   "outputs": [
    {
     "name": "stderr",
     "output_type": "stream",
     "text": [
      "Fitting causal mechanism of node Y: 100%|██████████| 3/3 [00:00<00:00,  3.29it/s]\n"
     ]
    }
   ],
   "source": [
    "# Ground truth functions\n",
    "def X(input_tensor, noise_mean=0, noise_stdev=0):\n",
    "    input_tensor = input_tensor[..., :1]\n",
    "    noise = torch.normal(noise_mean, noise_stdev, input_tensor.shape)\n",
    "    return input_tensor + noise\n",
    "\n",
    "def Z(input_tensor, noise_mean=0, noise_stdev=0):\n",
    "    input_tensor = input_tensor[..., :1]\n",
    "    noise = torch.normal(noise_mean, noise_stdev, input_tensor.shape)\n",
    "    return (torch.exp(-input_tensor)) + noise\n",
    "\n",
    "def Y(input_tensor, noise_mean=0, noise_stdev=0):\n",
    "    input_tensor = input_tensor[..., :1]\n",
    "    noise = torch.normal(noise_mean, noise_stdev, input_tensor.shape)\n",
    "    return ((torch.cos(input_tensor)) - (torch.exp(-input_tensor / 20))) + noise\n",
    "\n",
    "# Interventional domain = boundaries for each variable.\n",
    "interventional_domain = {'X': [-5,5], 'Z': [-5,20]}\n",
    "\n",
    "# Graph = DAG corresponding to causal connections.\n",
    "graph = SCM([('X', 'Z'), ('Z', 'Y')])\n",
    "\n",
    "# Store objective functions in a dict for easy access later.\n",
    "objective_functions = { 'X': lambda x: Y(Z(X(x))),\n",
    "                        'Z': lambda z: Y(Z(z)),\n",
    "                        'Y': lambda y: Y(y)}\n",
    "\n",
    "# Generate some noisy observational data.\n",
    "obs_data_x = X(torch.randn(1000, 1).view(-1,1), noise_stdev=1)\n",
    "obs_data_z = Z(obs_data_x, noise_stdev=1)\n",
    "obs_data_y = Y(obs_data_z, noise_stdev=1)\n",
    "\n",
    "# Add observations to DataFrame for easy access later.\n",
    "observational_samples = DataFrame()\n",
    "observational_samples['X'] = torch.flatten(obs_data_x).tolist()\n",
    "observational_samples['Z'] = torch.flatten(obs_data_z).tolist()\n",
    "observational_samples['Y'] = torch.flatten(obs_data_y).tolist()\n",
    "\n",
    "# Fit observations to DAG to estimate causal effects.\n",
    "graph.fit(observational_samples)"
   ]
  },
  {
   "cell_type": "markdown",
   "metadata": {},
   "source": [
    "#### Causal Bayesian Optimization Algorithm <a name=\"c-cbo-alg\"></a>"
   ]
  },
  {
   "cell_type": "markdown",
   "metadata": {},
   "source": [
    "With our data generated, we can now write a standard BoTorch optimization loop, and plug in the CausalRBF kernel and CausalMean mean functions, keeping everything else nearly identical to the non-causal implementation."
   ]
  },
  {
   "cell_type": "code",
   "execution_count": 14,
   "metadata": {},
   "outputs": [
    {
     "name": "stdout",
     "output_type": "stream",
     "text": [
      "Optimal Solution: -1.233835396330789\n"
     ]
    }
   ],
   "source": [
    "# Ignore warnings regarding data scaling for simple example\n",
    "import warnings\n",
    "warnings.filterwarnings(\"ignore\")\n",
    "\n",
    "train_x = torch.rand(5, 1)  # Random initial points\n",
    "train_y = objective_functions['X'](train_x)\n",
    "\n",
    "# Initialize the GP model\n",
    "gp = SingleTaskGP(train_x, train_y,\n",
    "                  covar_module=CausalRBF(\n",
    "                      interventional_variable=['X'],\n",
    "                      causal_model=graph\n",
    "                  ),\n",
    "                  mean_module=CausalMean(\n",
    "                      interventional_variable=['X'],\n",
    "                      causal_model=graph\n",
    "                  ))\n",
    "\n",
    "mll = ExactMarginalLogLikelihood(gp.likelihood, gp)\n",
    "\n",
    "# Initialize the acquisition function (Expected Improvement)\n",
    "acq_fn = ExpectedImprovement(gp, best_f=0)\n",
    "\n",
    "# Bayesian optimization loop\n",
    "num_iterations = 10\n",
    "for iteration in range(num_iterations):\n",
    "    # Optimize the acquisition function\n",
    "    candidate, _ = optimize_acqf(\n",
    "        acq_function=acq_fn,\n",
    "        bounds=torch.tensor(list(subdict_with_keys(interventional_domain, ['X']).values()), dtype=torch.float64).t(),\n",
    "        q=1,\n",
    "        num_restarts=5,\n",
    "        raw_samples=20,\n",
    "    )\n",
    "\n",
    "    # Evaluate the objective function at the new candidate point\n",
    "    new_x = candidate.detach()\n",
    "    new_y = objective_functions['X'](new_x)\n",
    "\n",
    "    # Update the training data\n",
    "    train_x = torch.cat([train_x, new_x])\n",
    "    train_y = torch.cat([train_y, new_y])\n",
    "\n",
    "    # Update the GP model and fit the hyperparameters\n",
    "    gp = SingleTaskGP(train_x, train_y,\n",
    "                  covar_module=CausalRBF(\n",
    "                      interventional_variable=['X'],\n",
    "                      causal_model=graph\n",
    "                  ),\n",
    "                  mean_module=CausalMean(\n",
    "                      interventional_variable=['X'],\n",
    "                      causal_model=graph\n",
    "                  ))\n",
    "    mll = ExactMarginalLogLikelihood(gp.likelihood, gp)\n",
    "\n",
    "    # Update the acquisition function with new observations\n",
    "    best_f = torch.max(train_y)\n",
    "    acq_fn = ExpectedImprovement(gp, best_f)\n",
    "\n",
    "# Retrieve the best-performing point\n",
    "best_point = train_x[torch.argmin(train_y)]\n",
    "\n",
    "print(\"Optimal Solution:\", best_point.item())"
   ]
  },
  {
   "cell_type": "markdown",
   "metadata": {},
   "source": [
    "## Result Replication <a name='result-replication'></a>"
   ]
  },
  {
   "cell_type": "markdown",
   "metadata": {},
   "source": [
    "### Toy Graph - Single Variable"
   ]
  },
  {
   "cell_type": "code",
   "execution_count": 15,
   "metadata": {},
   "outputs": [
    {
     "name": "stdout",
     "output_type": "stream",
     "text": [
      "Standard GP, iteration 0\n",
      "Standard GP, iteration 1\n",
      "Standard GP, iteration 2\n",
      "Standard GP, iteration 3\n",
      "Standard GP, iteration 4\n",
      "Standard GP, iteration 5\n",
      "Standard GP, iteration 6\n",
      "Standard GP, iteration 7\n",
      "Standard GP, iteration 8\n",
      "Standard GP, iteration 9\n",
      "Iteration 0\n",
      "Current global optimal set-value-result = None: None -> 2.62973690032959\n",
      "Epsilon: 1 - Uniform: 0.45441215307882443\n",
      "Observing 20 new data points.\n"
     ]
    },
    {
     "name": "stderr",
     "output_type": "stream",
     "text": [
      "Fitting causal mechanism of node Y: 100%|██████████| 3/3 [00:00<00:00,  6.01it/s]\n"
     ]
    },
    {
     "name": "stdout",
     "output_type": "stream",
     "text": [
      "Iteration 1\n",
      "Current global optimal set-value-result = None: None -> 2.62973690032959\n",
      "Epsilon: 0 - Uniform: 0.9535783635277885\n",
      "Intervening...\n",
      "Optimal set-value pair: X - [-1.1545216478407383]\n",
      "Updating D_i for X...\n",
      "Updating GP posterior for X...\n",
      "Updating global optimum...\n",
      "Iteration 2\n",
      "Current global optimal set-value-result = X: -1.1545216478407383 -> -1.8528382954337386\n",
      "Epsilon: 0.38003739796419705 - Uniform: 0.6330188793093804\n",
      "Intervening...\n",
      "Optimal set-value pair: X - [1.9150317753179298]\n",
      "Updating D_i for X...\n",
      "Updating GP posterior for X...\n",
      "Updating global optimum...\n",
      "Iteration 3\n",
      "Current global optimal set-value-result = X: -1.1545216478407383 -> -1.8528382954337386\n",
      "Epsilon: 0.38003739796419705 - Uniform: 0.761019747559948\n",
      "Intervening...\n",
      "Optimal set-value pair: X - [-1.0899318423551099]\n",
      "Updating D_i for X...\n",
      "Updating GP posterior for X...\n",
      "Updating global optimum...\n",
      "Iteration 4\n",
      "Current global optimal set-value-result = X: -1.1545216478407383 -> -1.8528382954337386\n",
      "Epsilon: 0.38003739796419705 - Uniform: 0.24692429499761026\n",
      "Observing 20 new data points.\n"
     ]
    },
    {
     "name": "stderr",
     "output_type": "stream",
     "text": [
      "Fitting causal mechanism of node Y: 100%|██████████| 3/3 [00:00<00:00,  5.11it/s]\n"
     ]
    },
    {
     "name": "stdout",
     "output_type": "stream",
     "text": [
      "Iteration 5\n",
      "Current global optimal set-value-result = X: -1.1545216478407383 -> -1.8528382954337386\n",
      "Epsilon: 0.42381540389613076 - Uniform: 0.5277769694458535\n",
      "Intervening...\n",
      "Optimal set-value pair: X - [-0.8997109828877364]\n",
      "Updating D_i for X...\n",
      "Updating GP posterior for X...\n",
      "Updating global optimum...\n",
      "Early stopping reached max num of iters without improvment.\n"
     ]
    },
    {
     "data": {
      "image/png": "[encoded data removed]",
      "text/plain": [
       "<Figure size 640x480 with 1 Axes>"
      ]
     },
     "metadata": {},
     "output_type": "display_data"
    }
   ],
   "source": [
    "from causalbo.do_calculus import E_output_given_do, SCM\n",
    "from causalbo.causal_helper_funcs import calculate_epsilon, subdict_with_keys\n",
    "import numpy as np\n",
    "import torch\n",
    "from matplotlib import pyplot as plt\n",
    "from causalbo.sample_data.toy_graph import ToyGraph\n",
    "from causalbo.cbo_loop import CBOLoop\n",
    "\n",
    "from causalbo.modules import CausalMean, CausalRBF\n",
    "from botorch.models import SingleTaskGP\n",
    "from gpytorch.mlls.exact_marginal_log_likelihood import ExactMarginalLogLikelihood\n",
    "from botorch.acquisition import ExpectedImprovement\n",
    "from botorch.fit import fit_gpytorch_model\n",
    "from botorch.optim import optimize_acqf\n",
    "import random\n",
    "from tqdm import tqdm\n",
    "import warnings\n",
    "warnings.filterwarnings(\"ignore\")\n",
    "\n",
    "toy_graph = ToyGraph()\n",
    "\n",
    "num_initial_interventions = 1\n",
    "num_iterations = 10\n",
    "\n",
    "bounds = toy_graph.interventional_domain['X']\n",
    "train_x_standard = torch.tensor([[random.uniform(*bounds)]])\n",
    "train_y_standard = toy_graph.obj_func['X'](train_x_standard)\n",
    "\n",
    "\n",
    "# Store total cost\n",
    "total_cost_standard = 10\n",
    "# Store optimal value\n",
    "global_optimum_standard = max(toy_graph.observational_samples[toy_graph.graph.output_node])\n",
    "# Store changes in cost over time\n",
    "cost_over_time_standard = []\n",
    "# Store optimum over time\n",
    "global_optimum_over_time_standard = []\n",
    "# Cost of intervening and observing\n",
    "INTERVENTION_COST = 10\n",
    "OBSERVATION_COST = 1\n",
    "\n",
    "# Initialize GP\n",
    "\n",
    "train_input_standard = train_x_standard\n",
    "\n",
    "gp_standard = SingleTaskGP(train_X=train_input_standard, train_Y=train_y_standard)\n",
    "mll = ExactMarginalLogLikelihood(gp_standard.likelihood, gp_standard)\n",
    "acqf = ExpectedImprovement(model=gp_standard, best_f=global_optimum_standard, maximize=False)\n",
    "fit_gpytorch_model(mll)\n",
    "\n",
    "global_optimum_over_time_standard.append(global_optimum_standard)\n",
    "cost_over_time_standard.append(total_cost_standard)\n",
    "\n",
    "# Optimization loop\n",
    "for i in range(num_iterations):\n",
    "    print(f'Standard GP, iteration {i}')\n",
    "    candidate, _ = optimize_acqf(\n",
    "        acq_function=acqf,\n",
    "        bounds=torch.tensor([[-5.], [5.]]),\n",
    "        q=1,\n",
    "        num_restarts=5,\n",
    "        raw_samples=20,\n",
    "    )\n",
    "\n",
    "    # Evaluate the objective function at the new candidate point\n",
    "    new_x = candidate.detach()\n",
    "    new_y = toy_graph.obj_func['X'](new_x)\n",
    "\n",
    "    # Update the training data\n",
    "    train_input_standard = torch.cat([train_input_standard, new_x])\n",
    "    # train_x_standard = torch.cat([train_x_standard, new_x])\n",
    "    train_y_standard = torch.cat([train_y_standard, new_y])\n",
    "\n",
    "    # Update the GP model and fit the hyperparameters\n",
    "    gp_standard = SingleTaskGP(train_input_standard, train_y_standard)\n",
    "    mll = ExactMarginalLogLikelihood(gp_standard.likelihood, gp_standard)\n",
    "    fit_gpytorch_model(mll)\n",
    "\n",
    "    # Update the acquisition function with new observations\n",
    "    global_optimum_standard = torch.min(train_y_standard)\n",
    "    acqf = ExpectedImprovement(model=gp_standard, best_f=global_optimum_standard, maximize=False)\n",
    "\n",
    "    # Update cost and optimum\n",
    "    total_cost_standard += INTERVENTION_COST\n",
    "    cost_over_time_standard.append(total_cost_standard)\n",
    "    global_optimum_over_time_standard.append(global_optimum_standard)\n",
    "\n",
    "# Causal GP\n",
    "(global_optimum, global_optimal_set, gp, D_i, D_o, cost_over_time_causal, global_optimum_over_time_causal) = CBOLoop(\n",
    "        observational_samples=toy_graph.observational_samples,\n",
    "        graph=toy_graph.graph,\n",
    "        exploration_set=[['X']],\n",
    "        num_steps=10,\n",
    "        num_initial_obs=400,\n",
    "        num_obs_per_step=20,\n",
    "        num_max_allowed_obs=1000,\n",
    "        interventional_domain=toy_graph.interventional_domain,\n",
    "        type_trial='min',\n",
    "        objective_function=toy_graph.obj_func,\n",
    "        early_stopping_iters=2, verbose=True)\n",
    "\n",
    "# xs = np.arange(-5, 20, 0.1)\n",
    "# toy_graph.graph.fit(toy_graph.observational_samples)\n",
    "# ys = [E_output_given_do(interventional_variable=['Z'], interventional_value=[x], causal_model=toy_graph.graph) for x in xs]\n",
    "\n",
    "obj_func_x = torch.linspace(*toy_graph.interventional_domain['Z'], 1000).view(-1,1)\n",
    "obj_func_y = toy_graph.obj_func['X'](obj_func_x)\n",
    "true_optimum = torch.min(obj_func_y)\n",
    "plt.axhline(true_optimum, color='r')\n",
    "#plt.plot(obj_func_x, obj_func_y)\n",
    "#plt.plot(xs,ys)\n",
    "#plt.scatter(train_input_standard[:,0], train_y_standard)\n",
    "plt.plot(cost_over_time_standard, global_optimum_over_time_standard)\n",
    "plt.plot(cost_over_time_causal, global_optimum_over_time_causal)\n",
    "plt.title('Causal GP vs Standard GP performance')\n",
    "plt.xlabel('Total Cost')\n",
    "plt.ylabel('Calculated Global Optimum')\n",
    "plt.legend(['True global optimum', 'Standard GP', 'Causal GP'])\n",
    "plt.show()"
   ]
  },
  {
   "cell_type": "markdown",
   "metadata": {},
   "source": [
    "### Toy Graph - Multi Variable"
   ]
  },
  {
   "cell_type": "code",
   "execution_count": 2,
   "metadata": {},
   "outputs": [
    {
     "name": "stdout",
     "output_type": "stream",
     "text": [
      "Iteration 0\n",
      "Current global optimal set-value-result = None: None -> 2.212989330291748\n",
      "Epsilon: 1 - Uniform: 0.023118117518107217\n",
      "Observing 20 new data points.\n"
     ]
    },
    {
     "name": "stderr",
     "output_type": "stream",
     "text": [
      "Fitting causal mechanism of node Y: 100%|██████████| 3/3 [00:00<00:00,  5.14it/s]\n"
     ]
    },
    {
     "name": "stdout",
     "output_type": "stream",
     "text": [
      "Iteration 1\n",
      "Current global optimal set-value-result = None: None -> 2.212989330291748\n",
      "Epsilon: 0 - Uniform: 0.27883005677909145\n",
      "Intervening...\n",
      "Optimal set-value pair: ZX - [3.8609408121556044, 2.7578428108245134]\n",
      "Updating D_i for ZX...\n",
      "Updating GP posterior for ZX...\n",
      "Updating global optimum...\n",
      "Iteration 2\n",
      "Current global optimal set-value-result = ZX: 3.8609408121556044 -> 0.0008303508749167854\n",
      "Epsilon: 0.41986965681565175 - Uniform: 0.718570853325233\n",
      "Intervening...\n",
      "Optimal set-value pair: ZX - [3.074025483801961, -1.9032358285039663]\n",
      "Updating D_i for ZX...\n",
      "Updating GP posterior for ZX...\n",
      "Updating global optimum...\n",
      "Iteration 3\n",
      "Current global optimal set-value-result = ZX: 3.8609408121556044 -> 0.0008303508749167854\n",
      "Epsilon: 0.41986965681565175 - Uniform: 0.8104192449598988\n",
      "Intervening...\n",
      "Optimal set-value pair: ZX - [2.999539935695284, 2.760031919792293]\n",
      "Updating D_i for ZX...\n",
      "Updating GP posterior for ZX...\n",
      "Updating global optimum...\n",
      "Iteration 4\n",
      "Current global optimal set-value-result = ZX: 3.8609408121556044 -> 0.0008303508749167854\n",
      "Epsilon: 0.41986965681565175 - Uniform: 0.6720253374346127\n",
      "Intervening...\n",
      "Optimal set-value pair: ZX - [3.047480989752441, 0.2555955775257894]\n",
      "Updating D_i for ZX...\n",
      "Updating GP posterior for ZX...\n",
      "Updating global optimum...\n",
      "Early stopping reached max num of iters without improvment.\n"
     ]
    },
    {
     "data": {
      "image/png": "[encoded data removed]",
      "text/plain": [
       "<Figure size 640x480 with 1 Axes>"
      ]
     },
     "metadata": {},
     "output_type": "display_data"
    }
   ],
   "source": [
    "from causalbo.do_calculus import E_output_given_do, SCM\n",
    "from causalbo.causal_helper_funcs import calculate_epsilon, subdict_with_keys\n",
    "import numpy as np\n",
    "import torch\n",
    "from matplotlib import pyplot as plt\n",
    "from causalbo.sample_data.toy_graph import ToyGraph\n",
    "from causalbo.cbo_loop import CBOLoop\n",
    "\n",
    "from causalbo.modules import CausalMean, CausalRBF\n",
    "from botorch.models import SingleTaskGP\n",
    "from gpytorch.mlls.exact_marginal_log_likelihood import ExactMarginalLogLikelihood\n",
    "from botorch.acquisition import ExpectedImprovement\n",
    "from botorch.fit import fit_gpytorch_model\n",
    "from botorch.optim import optimize_acqf\n",
    "import random\n",
    "from tqdm import tqdm\n",
    "import warnings\n",
    "warnings.filterwarnings(\"ignore\")\n",
    "\n",
    "toy_graph = ToyGraph()\n",
    "\n",
    "# num_initial_interventions = 1\n",
    "# num_iterations = 10\n",
    "\n",
    "# bounds = toy_graph.interventional_domain['X']\n",
    "# train_x_standard = torch.tensor([[random.uniform(*bounds)]])\n",
    "# train_z_standard = ToyGraph.Z(train_x_standard)\n",
    "# train_y_standard = toy_graph.obj_func['Y'](train_z_standard)\n",
    "\n",
    "\n",
    "# # Store total cost\n",
    "# total_cost_standard = 20\n",
    "# # Store optimal value\n",
    "# global_optimum_standard = max(toy_graph.observational_samples[toy_graph.graph.output_node])\n",
    "# # Store changes in cost over time\n",
    "# cost_over_time_standard = []\n",
    "# # Store optimum over time\n",
    "# global_optimum_over_time_standard = []\n",
    "# # Cost of intervening and observing\n",
    "# INTERVENTION_COST = 10\n",
    "# OBSERVATION_COST = 1\n",
    "\n",
    "# # Initialize GP\n",
    "\n",
    "# train_input_standard = torch.cat((train_x_standard, train_z_standard), dim=1)\n",
    "\n",
    "# gp_standard = SingleTaskGP(train_X=train_input_standard, train_Y=train_y_standard)\n",
    "# mll = ExactMarginalLogLikelihood(gp_standard.likelihood, gp_standard)\n",
    "# acqf = ExpectedImprovement(model=gp_standard, best_f=global_optimum_standard, maximize=False)\n",
    "# fit_gpytorch_model(mll)\n",
    "\n",
    "# global_optimum_over_time_standard.append(global_optimum_standard)\n",
    "# cost_over_time_standard.append(total_cost_standard)\n",
    "\n",
    "# # Optimization loop\n",
    "# for i in range(num_iterations):\n",
    "#     print(f'Standard GP, iteration {i}')\n",
    "#     candidate, _ = optimize_acqf(\n",
    "#         acq_function=acqf,\n",
    "#         bounds=torch.tensor([[-5., -5.], [5., 20.]]),\n",
    "#         q=1,\n",
    "#         num_restarts=5,\n",
    "#         raw_samples=20,\n",
    "#     )\n",
    "\n",
    "#     # Evaluate the objective function at the new candidate point\n",
    "#     new_x = candidate.detach()\n",
    "#     new_y = toy_graph.obj_func['Y'](new_x)\n",
    "\n",
    "#     # Update the training data\n",
    "#     train_input_standard = torch.cat([train_input_standard, new_x])\n",
    "#     # train_x_standard = torch.cat([train_x_standard, new_x])\n",
    "#     train_y_standard = torch.cat([train_y_standard, new_y])\n",
    "\n",
    "#     # Update the GP model and fit the hyperparameters\n",
    "#     gp_standard = SingleTaskGP(train_input_standard, train_y_standard)\n",
    "#     mll = ExactMarginalLogLikelihood(gp_standard.likelihood, gp_standard)\n",
    "#     fit_gpytorch_model(mll)\n",
    "\n",
    "#     # Update the acquisition function with new observations\n",
    "#     global_optimum_standard = torch.min(train_y_standard)\n",
    "#     acqf = ExpectedImprovement(model=gp_standard, best_f=global_optimum_standard, maximize=False)\n",
    "\n",
    "#     # Update cost and optimum\n",
    "#     total_cost_standard += INTERVENTION_COST * 2\n",
    "#     cost_over_time_standard.append(total_cost_standard)\n",
    "#     global_optimum_over_time_standard.append(global_optimum_standard)\n",
    "\n",
    "# Causal GP\n",
    "(global_optimum, global_optimal_set, gp, D_i, D_o, cost_over_time_causal, global_optimum_over_time_causal) = CBOLoop(\n",
    "        observational_samples=toy_graph.observational_samples,\n",
    "        graph=toy_graph.graph,\n",
    "        exploration_set=[['Z', 'X']],\n",
    "        num_steps=10,\n",
    "        num_initial_obs=400,\n",
    "        num_obs_per_step=20,\n",
    "        num_max_allowed_obs=1000,\n",
    "        interventional_domain=toy_graph.interventional_domain,\n",
    "        type_trial='min',\n",
    "        objective_function=toy_graph.obj_func,\n",
    "        early_stopping_iters=2, verbose=True)\n",
    "\n",
    "# xs = np.arange(-5, 20, 0.1)\n",
    "# toy_graph.graph.fit(toy_graph.observational_samples)\n",
    "# ys = [E_output_given_do(interventional_variable=['Z'], interventional_value=[x], causal_model=toy_graph.graph) for x in xs]\n",
    "\n",
    "obj_func_x = torch.linspace(*toy_graph.interventional_domain['Z'], 1000).view(-1,1)\n",
    "obj_func_y = toy_graph.obj_func['Y'](obj_func_x)\n",
    "true_optimum = torch.min(obj_func_y)\n",
    "plt.axhline(true_optimum, color='r')\n",
    "#plt.plot(obj_func_x, obj_func_y)\n",
    "#plt.plot(xs,ys)\n",
    "#plt.scatter(train_input_standard[:,0], train_y_standard)\n",
    "#plt.plot(cost_over_time_standard, global_optimum_over_time_standard)\n",
    "plt.plot(cost_over_time_causal, global_optimum_over_time_causal)\n",
    "plt.title('Causal GP vs Standard GP performance')\n",
    "plt.xlabel('Total Cost')\n",
    "plt.ylabel('Calculated Global Optimum')\n",
    "plt.legend(['True global optimum', 'Standard GP', 'Causal GP'])\n",
    "plt.show()"
   ]
  },
  {
   "cell_type": "markdown",
   "metadata": {},
   "source": [
    "## Synthetic Graph"
   ]
  },
  {
   "cell_type": "code",
   "execution_count": null,
   "metadata": {},
   "outputs": [],
   "source": [
    "from causalbo.do_calculus import E_output_given_do, SCM\n",
    "from causalbo.causal_helper_funcs import calculate_epsilon, subdict_with_keys\n",
    "import numpy as np\n",
    "import torch\n",
    "from matplotlib import pyplot as plt\n",
    "from causalbo.sample_data.toy_graph import ToyGraph\n",
    "from causalbo.cbo_loop import CBOLoop\n",
    "\n",
    "from causalbo.modules import CausalMean, CausalRBF\n",
    "from botorch.models import SingleTaskGP\n",
    "from gpytorch.mlls.exact_marginal_log_likelihood import ExactMarginalLogLikelihood\n",
    "from botorch.acquisition import ExpectedImprovement\n",
    "from botorch.fit import fit_gpytorch_model\n",
    "from botorch.optim import optimize_acqf\n",
    "import random\n",
    "from tqdm import tqdm\n",
    "import warnings\n",
    "warnings.filterwarnings(\"ignore\")\n",
    "\n",
    "toy_graph = ToyGraph()\n",
    "\n",
    "num_initial_interventions = 1\n",
    "num_iterations = 10\n",
    "\n",
    "bounds = toy_graph.interventional_domain['X']\n",
    "train_x_standard = torch.tensor([[random.uniform(*bounds)]])\n",
    "train_z_standard = ToyGraph.Z(train_x_standard)\n",
    "train_y_standard = toy_graph.obj_func['Y'](train_z_standard)\n",
    "\n",
    "\n",
    "# Store total cost\n",
    "total_cost_standard = 20\n",
    "# Store optimal value\n",
    "global_optimum_standard = max(toy_graph.observational_samples[toy_graph.graph.output_node])\n",
    "# Store changes in cost over time\n",
    "cost_over_time_standard = []\n",
    "# Store optimum over time\n",
    "global_optimum_over_time_standard = []\n",
    "# Cost of intervening and observing\n",
    "INTERVENTION_COST = 10\n",
    "OBSERVATION_COST = 1\n",
    "\n",
    "# Initialize GP\n",
    "\n",
    "train_input_standard = torch.cat((train_x_standard, train_z_standard), dim=1)\n",
    "\n",
    "gp_standard = SingleTaskGP(train_X=train_input_standard, train_Y=train_y_standard)\n",
    "mll = ExactMarginalLogLikelihood(gp_standard.likelihood, gp_standard)\n",
    "acqf = ExpectedImprovement(model=gp_standard, best_f=global_optimum_standard, maximize=False)\n",
    "fit_gpytorch_model(mll)\n",
    "\n",
    "global_optimum_over_time_standard.append(global_optimum_standard)\n",
    "cost_over_time_standard.append(total_cost_standard)\n",
    "\n",
    "# Optimization loop\n",
    "for i in range(num_iterations):\n",
    "    print(f'Standard GP, iteration {i}')\n",
    "    candidate, _ = optimize_acqf(\n",
    "        acq_function=acqf,\n",
    "        bounds=torch.tensor([[-5., -5.], [5., 20.]]),\n",
    "        q=1,\n",
    "        num_restarts=5,\n",
    "        raw_samples=20,\n",
    "    )\n",
    "\n",
    "    # Evaluate the objective function at the new candidate point\n",
    "    new_x = candidate.detach()\n",
    "    new_y = toy_graph.obj_func['Y'](new_x)\n",
    "\n",
    "    # Update the training data\n",
    "    train_input_standard = torch.cat([train_input_standard, new_x])\n",
    "    # train_x_standard = torch.cat([train_x_standard, new_x])\n",
    "    train_y_standard = torch.cat([train_y_standard, new_y])\n",
    "\n",
    "    # Update the GP model and fit the hyperparameters\n",
    "    gp_standard = SingleTaskGP(train_input_standard, train_y_standard)\n",
    "    mll = ExactMarginalLogLikelihood(gp_standard.likelihood, gp_standard)\n",
    "    fit_gpytorch_model(mll)\n",
    "\n",
    "    # Update the acquisition function with new observations\n",
    "    global_optimum_standard = torch.min(train_y_standard)\n",
    "    acqf = ExpectedImprovement(model=gp_standard, best_f=global_optimum_standard, maximize=False)\n",
    "\n",
    "    # Update cost and optimum\n",
    "    total_cost_standard += INTERVENTION_COST * 2\n",
    "    cost_over_time_standard.append(total_cost_standard)\n",
    "    global_optimum_over_time_standard.append(global_optimum_standard)\n",
    "\n",
    "# Causal GP\n",
    "(global_optimum, global_optimal_set, gp, D_i, D_o, cost_over_time_causal, global_optimum_over_time_causal) = CBOLoop(\n",
    "        observational_samples=toy_graph.observational_samples,\n",
    "        graph=toy_graph.graph,\n",
    "        exploration_set=[['Z'], ['X']],\n",
    "        num_steps=10,\n",
    "        num_initial_obs=400,\n",
    "        num_obs_per_step=20,\n",
    "        num_max_allowed_obs=1000,\n",
    "        interventional_domain=toy_graph.interventional_domain,\n",
    "        type_trial='min',\n",
    "        objective_function=toy_graph.obj_func,\n",
    "        early_stopping_iters=2, verbose=True)\n",
    "\n",
    "# xs = np.arange(-5, 20, 0.1)\n",
    "# toy_graph.graph.fit(toy_graph.observational_samples)\n",
    "# ys = [E_output_given_do(interventional_variable=['Z'], interventional_value=[x], causal_model=toy_graph.graph) for x in xs]\n",
    "\n",
    "obj_func_x = torch.linspace(*toy_graph.interventional_domain['Z'], 1000).view(-1,1)\n",
    "obj_func_y = toy_graph.obj_func['Y'](obj_func_x)\n",
    "true_optimum = torch.min(obj_func_y)\n",
    "plt.axhline(true_optimum, color='r')\n",
    "#plt.plot(obj_func_x, obj_func_y)\n",
    "#plt.plot(xs,ys)\n",
    "#plt.scatter(train_input_standard[:,0], train_y_standard)\n",
    "plt.plot(cost_over_time_standard, global_optimum_over_time_standard)\n",
    "plt.plot(cost_over_time_causal, global_optimum_over_time_causal)\n",
    "plt.title('Causal GP vs Standard GP performance')\n",
    "plt.xlabel('Total Cost')\n",
    "plt.ylabel('Calculated Global Optimum')\n",
    "plt.legend(['True global optimum', 'Standard GP', 'Causal GP'])\n",
    "plt.show()"
   ]
  }
 ],
 "metadata": {
  "kernelspec": {
   "display_name": "Python 3",
   "language": "python",
   "name": "python3"
  },
  "language_info": {
   "codemirror_mode": {
    "name": "ipython",
    "version": 3
   },
   "file_extension": ".py",
   "mimetype": "text/x-python",
   "name": "python",
   "nbconvert_exporter": "python",
   "pygments_lexer": "ipython3",
   "version": "3.10.4"
  },
  "orig_nbformat": 4
 },
 "nbformat": 4,
 "nbformat_minor": 2
}
